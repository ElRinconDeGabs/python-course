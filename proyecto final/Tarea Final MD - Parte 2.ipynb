{
 "cells": [
  {
   "cell_type": "markdown",
   "id": "83ce9e91-e433-4d23-8136-13dedecfe484",
   "metadata": {},
   "source": [
    "# PRACTICA EVALUACIÓN FINAL - PARTE II #\n",
    "Esta segunda parte supone el 25% restante de tarea práctica final del módulo de minería de datos. Junto con la parte 1, ambas puntúan el 60% de la nota final.\n",
    "\n",
    "En esta parte 2 se pretende evaluar los conceptos relacionados con el analisis de series temporales y su aplicación a modelos de predicción.\n",
    "\n",
    "Comenzando con esta parte de la práctica, en el primer bloque de código, conviene cargar las librerías que se van a utilizar a lo largo del notebook."
   ]
  },
  {
   "cell_type": "code",
   "execution_count": null,
   "id": "0ee00e60-895a-4a88-a721-75488a40b59a",
   "metadata": {},
   "outputs": [],
   "source": [
    "# importar librerias"
   ]
  },
  {
   "cell_type": "markdown",
   "id": "48bb32b1-9cf1-4f3e-b329-3263cc1df346",
   "metadata": {},
   "source": [
    "En el siguiente paso procedemos a cargar el fichero *Microsoft_Stock.csv* que servirá como conjunto de datos para llevar a cabo toda la evaluación de esta parte II. Se trata de un fichero en el que cada registro contiene para un día concreto datos de apertura, cierre, máximo, mínimo y volumen de cotización de las acciones de Microsoft en la bolsa de Nueva York. Se trata por tanto de un clásico problema de predicción de valores futuros. "
   ]
  },
  {
   "cell_type": "code",
   "execution_count": null,
   "id": "4eefbfc6-da82-46be-825c-19f3b5ae3b9d",
   "metadata": {},
   "outputs": [],
   "source": [
    "# Cargar el fichero de datos en un DataFrame"
   ]
  },
  {
   "cell_type": "markdown",
   "id": "78791baa-af0a-4ffd-86c6-61aaed5041d5",
   "metadata": {},
   "source": [
    "En los siguientes bloques de código el alumno debe programar las sentencias de código que considere oportunas para hacerse una idea general de los datos y de las variables. Visualización de datos, gráficos, etc. Los bloques son orientativos, el alumno puede añadir cuantos considere y codificarlos según su criterio."
   ]
  },
  {
   "cell_type": "code",
   "execution_count": null,
   "id": "32eac37b-61fd-4a00-84d0-66cd0448da61",
   "metadata": {},
   "outputs": [],
   "source": [
    "# Mostrar los 10 primeros registros"
   ]
  },
  {
   "cell_type": "code",
   "execution_count": null,
   "id": "5c29e9cb-2be5-43b5-95b8-50f16e786b88",
   "metadata": {},
   "outputs": [],
   "source": [
    "# Describir el DataFrame"
   ]
  },
  {
   "cell_type": "code",
   "execution_count": null,
   "id": "32d92674-d12a-47d8-a86a-5f89965bed7e",
   "metadata": {},
   "outputs": [],
   "source": [
    "# Mostrar las columnas y tipos de datos"
   ]
  },
  {
   "cell_type": "code",
   "execution_count": null,
   "id": "3ff85c3e-1d54-4715-a880-a232033a5aa7",
   "metadata": {},
   "outputs": [],
   "source": [
    "# ..."
   ]
  },
  {
   "cell_type": "code",
   "execution_count": null,
   "id": "7dcda90a-e940-46b1-81e9-4b6347da4934",
   "metadata": {},
   "outputs": [],
   "source": [
    "# ..."
   ]
  },
  {
   "cell_type": "markdown",
   "id": "cb837409-0004-4330-9330-e72e65900a90",
   "metadata": {},
   "source": [
    "Se ha de filtrar la serie quedandose solo con los datos desde el año 2020 (incluido) en adelante. Una vez filtrada, mostrar la serie temporal de la variable ***Close*** en un gráfico de línea."
   ]
  },
  {
   "cell_type": "code",
   "execution_count": null,
   "id": "8ebd86ba-f85a-4cbc-aa31-5cc9bd0c6e88",
   "metadata": {},
   "outputs": [],
   "source": [
    "# Filtrar datos desde 2020"
   ]
  },
  {
   "cell_type": "markdown",
   "id": "4f845980-88a2-488b-b2a4-b0919332e580",
   "metadata": {},
   "source": [
    "### Pregunta 1 ###\n",
    "En primera instancia echando un vistazo a la serie en la gráfica, ¿Qué pinta tiene la serie en cuanto a estacionariedad? Describe brevemente las impresiones acerca de porque parece que la serie es o no estacionaria."
   ]
  },
  {
   "cell_type": "markdown",
   "id": "d049595a-7bbb-40b8-915f-84140029266e",
   "metadata": {},
   "source": [
    "***Respuesta:***"
   ]
  },
  {
   "cell_type": "markdown",
   "id": "d6999e32-1631-4f97-a10e-624d51c5f8be",
   "metadata": {},
   "source": []
  },
  {
   "cell_type": "markdown",
   "id": "511bed50-ac1e-4f9b-9217-bd906f1376e5",
   "metadata": {},
   "source": [
    "A continuación pasamos a analizar desde un punto de vista más formal la estacionariedad de la serie. En primer lugar calcular las funciones de autocorrelación y autocorrelación parcial y mostrar las gráficas con ambas funciones."
   ]
  },
  {
   "cell_type": "code",
   "execution_count": null,
   "id": "27135d5e-9418-419c-9824-879c72e0c2cb",
   "metadata": {},
   "outputs": [],
   "source": [
    "# Gráfica ACF"
   ]
  },
  {
   "cell_type": "code",
   "execution_count": null,
   "id": "20eed391-9106-46c5-a53f-9fb3664c76c6",
   "metadata": {},
   "outputs": [],
   "source": [
    "# Gráfica PACF"
   ]
  },
  {
   "cell_type": "markdown",
   "id": "17f5fdb1-3d67-4d84-804c-29390602c718",
   "metadata": {},
   "source": [
    "### Pregunta 2 ###\n",
    "A la vista de las 2 gráficas de autocorrelación, ¿Se aprecian signos de estacionariedad en la serie? ¿Por qué? ¿Se aprecian signos de estacionalidad? ¿Por qué?"
   ]
  },
  {
   "cell_type": "markdown",
   "id": "63068a40-cf00-4628-9c3c-9c8bc5e2b0b0",
   "metadata": {},
   "source": [
    "***Respuesta:***"
   ]
  },
  {
   "cell_type": "markdown",
   "id": "0d838bee-6f43-4ec1-94cd-c963bf3c3896",
   "metadata": {},
   "source": []
  },
  {
   "cell_type": "markdown",
   "id": "2302a0fa-de0e-4edb-996c-239e6e2b0ad4",
   "metadata": {},
   "source": [
    "Ahora mediante un test de Dickey Fuller aumentado, realizamos la última comprobación de estacionariedad de la serie."
   ]
  },
  {
   "cell_type": "code",
   "execution_count": 1,
   "id": "78c9aec1-522a-4004-aa53-100eb767b19f",
   "metadata": {},
   "outputs": [],
   "source": [
    "# Test de Dickey Fuller Aumentado"
   ]
  },
  {
   "cell_type": "markdown",
   "id": "f7a0644c-621e-43b0-8507-249e9249656f",
   "metadata": {},
   "source": [
    "### Pregunta 3 ###\n",
    "Según el test realizado, ¿es estacionaria la serie?"
   ]
  },
  {
   "cell_type": "markdown",
   "id": "44543032-f8d2-486d-9cc0-66a64ec5f17c",
   "metadata": {},
   "source": [
    "***Respuesta:***"
   ]
  },
  {
   "cell_type": "markdown",
   "id": "80a09949-6b92-4bba-adb2-ce5952b903b2",
   "metadata": {},
   "source": []
  },
  {
   "cell_type": "markdown",
   "id": "5e53e743-a6c6-4433-a6cb-71934f020ca9",
   "metadata": {},
   "source": [
    "Seguimos con el analisis y para ello vamos a tratar de modelar la serie con un suavizado exponencial y predecir con este modelo algunos de los puntos finales de la serie. En primer lugar, el alumno debe escoger, teniendo en cuenta lo aprendido en el analisis realizado hasta aquí, el modelo adecuado de suavizado exponencial. A continuación, utilizará todos los datos excepto los 30 últimos días de la serie, y modelará el suavizado con dichos datos. Con este modelo, debe predecir los 30 valores restantes y por último, debe mostrar en una misma gráfica: la serie original en un color hasta el punto donde comienzan los datos de validación (30 últimos puntos), los 30 últimos puntos de la serie original en otro color y, por último, en un tercer color, los puntos predichos por el modelo de suavizado."
   ]
  },
  {
   "cell_type": "code",
   "execution_count": null,
   "id": "da1eb4c0-9159-44ad-b7b9-037b6ba49d6b",
   "metadata": {},
   "outputs": [],
   "source": [
    "# Separar en conjunto de entrenamiento y validación "
   ]
  },
  {
   "cell_type": "code",
   "execution_count": 2,
   "id": "d4e51c20-3c22-4cd4-8742-5e10e3083461",
   "metadata": {},
   "outputs": [],
   "source": [
    "# Crear y ajustar el modelo de suavizado escogido"
   ]
  },
  {
   "cell_type": "code",
   "execution_count": null,
   "id": "ad146196-6cc1-448b-900f-065c8d0e767f",
   "metadata": {},
   "outputs": [],
   "source": [
    "# Predecir los datos validación"
   ]
  },
  {
   "cell_type": "code",
   "execution_count": null,
   "id": "ad8dbf3f-8658-43c8-848f-c60e9a32d818",
   "metadata": {},
   "outputs": [],
   "source": [
    "# Mostrar en gráfico los resultados y la serie original."
   ]
  },
  {
   "cell_type": "markdown",
   "id": "015c481a-6039-44c3-99f2-e9369b3e20ac",
   "metadata": {},
   "source": [
    "### Pregunta 4 ###\n",
    "¿Qué tipo de suavizado exponencial se ha empleado y por qué?"
   ]
  },
  {
   "cell_type": "markdown",
   "id": "7ded2052-27c4-4765-92aa-456b0b2c3aa4",
   "metadata": {},
   "source": [
    "***Respuesta:***"
   ]
  },
  {
   "cell_type": "markdown",
   "id": "306af198-dfa1-4f32-9538-0b27491b7a80",
   "metadata": {},
   "source": []
  },
  {
   "cell_type": "markdown",
   "id": "fe968c4b-a0db-4d2e-a3be-5efcb5acd181",
   "metadata": {},
   "source": [
    "Pasamos ahora a entrenar un modelo autoregresivo para, de nuevo, predecir los 30 últimos valores. En este caso, si en puntos anteriores de esta práctica se hubiera determinado que la serie no es estacionaria, se debe convertir en estacionaria y comprobar que efectivamente lo es después de la transformación. Una vez que sea estacionaria, se ha de seleccionar en base a la función de autocorrelación (ACF) y/o la autocorrelación parcial (PACF) el orden adecuado del modelo autoregresivo (AR)."
   ]
  },
  {
   "cell_type": "code",
   "execution_count": null,
   "id": "527ef66d-a86f-40b4-a32e-0daa8aa6708b",
   "metadata": {},
   "outputs": [],
   "source": [
    "# Transformar la serie en estacionaria en caso de que no lo fuera"
   ]
  },
  {
   "cell_type": "code",
   "execution_count": null,
   "id": "543ed370-4800-44b9-a6f2-f0463740b337",
   "metadata": {},
   "outputs": [],
   "source": [
    "# Comprobación de estacionariedad"
   ]
  },
  {
   "cell_type": "code",
   "execution_count": 3,
   "id": "53fd9077-ded1-4670-a8c3-8013947f5d63",
   "metadata": {},
   "outputs": [],
   "source": [
    "# Mostrar la función de autocorrelación y autocorrelación parcial"
   ]
  },
  {
   "cell_type": "markdown",
   "id": "2e308ead-e4fb-4a2f-9aab-8e266be93029",
   "metadata": {},
   "source": [
    "### Pregunta 5 ###\n",
    "¿Cual es el orden del modelo autoregresivo que se ha seleccionado y por qué?"
   ]
  },
  {
   "cell_type": "markdown",
   "id": "55db6fc0-18ee-45fd-b85f-453bbc41ed49",
   "metadata": {},
   "source": [
    "***Respuesta:***"
   ]
  },
  {
   "cell_type": "markdown",
   "id": "edd31a43-9bdc-44e2-978d-d4b3268fc7a5",
   "metadata": {},
   "source": []
  },
  {
   "cell_type": "markdown",
   "id": "2ae2299c-8147-4573-94fb-371a488b2cf1",
   "metadata": {},
   "source": [
    "Una vez escogido el orden del modelo autorregresivo, pasamos a entrenar el modelo y a predecir los 30 últimos valores. Por tanto lo primero será, como en ejercicios anteriores, separar por un lado la serie original transformada en estacionaria en caso de que no lo fuera, y eso si, quitandole los últimos 30 puntos. Una vez entrenado, se ha de mostrar el resumen de los parametros del modelo, coeficientes y demás métricas habituales. A continuación, utilizar el modelo para predecir los últimos 30 valores y mostrarlos en un gráfico de lineas junto con la serie original. Antes de pintarlos, en caso de que la serie original haya sido transformada para convertirla en estacionaria, será necesario deshacer las transformaciones de los valores predichos y, ahora si, pintarla junto con los valores de la serie original."
   ]
  },
  {
   "cell_type": "code",
   "execution_count": null,
   "id": "b536c544-5450-4ef4-93f0-567e93726057",
   "metadata": {},
   "outputs": [],
   "source": [
    "# Separar en conjunto de entrenamiento y validación "
   ]
  },
  {
   "cell_type": "code",
   "execution_count": null,
   "id": "af56d500-ee38-43d1-8ec8-419d3bb69ec5",
   "metadata": {},
   "outputs": [],
   "source": [
    "# Crear y ajustar el modelo autorregresivo del orden escogido"
   ]
  },
  {
   "cell_type": "code",
   "execution_count": null,
   "id": "5430bd35-f731-46bb-bab3-5258f36caba2",
   "metadata": {},
   "outputs": [],
   "source": [
    "# Mostrar el resumen de los parametros y resultados del entrenamiento del modelo"
   ]
  },
  {
   "cell_type": "code",
   "execution_count": null,
   "id": "151915d9-6f8f-4da7-a722-a35551fc6fd5",
   "metadata": {},
   "outputs": [],
   "source": [
    "# Predecir los últimos 30 valores utilizando el modelo entrenado"
   ]
  },
  {
   "cell_type": "code",
   "execution_count": null,
   "id": "fa95c058-575b-41dd-a032-8034b536e405",
   "metadata": {},
   "outputs": [],
   "source": [
    "# Deshacer las transformaciones sobre los valores predichos"
   ]
  },
  {
   "cell_type": "code",
   "execution_count": null,
   "id": "951cf0d9-3ea1-45b4-8f60-40314ed283b9",
   "metadata": {},
   "outputs": [],
   "source": [
    "# Mostrar en gráfica la serie original y los valores predichos"
   ]
  },
  {
   "cell_type": "markdown",
   "id": "8361e424-ec62-48b3-8bf1-088afe8c746b",
   "metadata": {},
   "source": [
    "### Pregunta 6 ###\n",
    "A la vista de los resultados obtenidos en el entrenamiento del modelo, ¿qué podemos decir de los residuos y por tanto de la validez estadística del modelo?. En cuanto a la pinta que tiene el resultado final visualizado en el gráfico, ¿Qué conclusiones podemos sacar sobre el modelo? ¿es adecuado para predecir valores futuros de la serie? ¿De qué manera influye en esta valoración el hecho de que hayamos seleccionado para validar los últimos 30 puntos con respecto a la pinta que tendría si solo hubieran sido los últimos 20?"
   ]
  },
  {
   "cell_type": "markdown",
   "id": "e242cae0-d47d-4bf6-ae96-43aabdbc6ac9",
   "metadata": {},
   "source": [
    "***Respuesta:***"
   ]
  },
  {
   "cell_type": "markdown",
   "id": "62f3531b-d9a7-4c9e-918d-36ad21b20dc4",
   "metadata": {},
   "source": [
    "Por último, el alumno debe optimizar el modelo, cambiando el orden de las componentes AR, I y MA del modelo ARIMA, hasta llegar a una combinación que mejore el anterior modelo y que pueda ser incluso utilizable para predecir valores futuros de la serie. Para ello puede optar por realizarlo de forma manual probando distintas combinaciones o mediante algún algoritmo automático que encuentre la mejor combinación de ordenes para el modelo."
   ]
  },
  {
   "cell_type": "code",
   "execution_count": null,
   "id": "e6e73250-0bd2-4db1-8f71-1a7ef83e5d0b",
   "metadata": {},
   "outputs": [],
   "source": [
    "# Para el método manual, evaluar la ACF y PACF de la serie estacionaria (transformada si fuera necesario)"
   ]
  },
  {
   "cell_type": "code",
   "execution_count": null,
   "id": "dad99ccd-a47f-49ee-963f-3a8c1ba8b461",
   "metadata": {},
   "outputs": [],
   "source": [
    "# Encontrar los ordenes p y q adecuados para las partes AR y MA"
   ]
  },
  {
   "cell_type": "code",
   "execution_count": null,
   "id": "8c569a76-ca06-4440-a8c1-8b6d4a06081a",
   "metadata": {},
   "outputs": [],
   "source": [
    "# Aplicar el modelo ARIMA incluyendo los ordenes p y q, pero además incluyendo el orden de diferenciación d"
   ]
  },
  {
   "cell_type": "code",
   "execution_count": null,
   "id": "41a3b900-6a2f-4d3c-9baa-6f04106bbd7d",
   "metadata": {},
   "outputs": [],
   "source": [
    "# Predecir y pintar los resultados como en puntos anteriores"
   ]
  },
  {
   "cell_type": "markdown",
   "id": "055b11eb-0d5f-46a3-90be-1422f543ee30",
   "metadata": {},
   "source": [
    "### Pregunta 7 ###\n",
    "Hacer una interpretación libre del modelo entrenado y de los resultados obtenidos. ¿Sería utilizable para predicción de valores futuros de la serie temporal?"
   ]
  },
  {
   "cell_type": "markdown",
   "id": "71b357a4-2344-4beb-802f-b4918d9ec8b0",
   "metadata": {},
   "source": [
    "***Respuesta:***"
   ]
  },
  {
   "cell_type": "markdown",
   "id": "648db885-b72e-48fb-9b9a-9d8f99c97826",
   "metadata": {},
   "source": []
  }
 ],
 "metadata": {
  "kernelspec": {
   "display_name": "Python 3 (ipykernel)",
   "language": "python",
   "name": "python3"
  },
  "language_info": {
   "codemirror_mode": {
    "name": "ipython",
    "version": 3
   },
   "file_extension": ".py",
   "mimetype": "text/x-python",
   "name": "python",
   "nbconvert_exporter": "python",
   "pygments_lexer": "ipython3",
   "version": "3.13.1"
  }
 },
 "nbformat": 4,
 "nbformat_minor": 5
}
