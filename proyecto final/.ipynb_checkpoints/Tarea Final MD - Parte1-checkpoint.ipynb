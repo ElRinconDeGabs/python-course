{
 "cells": [
  {
   "cell_type": "markdown",
   "id": "9cfffc38-827d-4faa-8ca5-337ecb8640e0",
   "metadata": {},
   "source": [
    "# PRACTICA EVALUACIÓN FINAL - PARTE I #\n",
    "\n",
    "Esta practica final tiene por objetivo evaluar los conocimientos que se han adquirido por parte del alumno a lo largo de los distintos temas del módulo. La práctica se divide en 2 partes: ésta primera parte que permite evaluar los temas de Data Understanding, Data Preparation, Regresión Lineal, Regresión Logística, Selección de variables, Análisis de componentes principales (PCA), Análisis Factorial y técnicas de clustering.\n",
    "\n",
    "Supone por tanto un 75% de la calificación correspondiente a la Prática de Evaluación Final completa incluyendo ambas partes. Por tanto la parte 2, incluirá ejercicios de evaluación de los temas de series temporales y por ello supondrá un 25%.\n",
    "\n",
    "En conjunto, toda la Práctica de Evaluación Final (ambas partes) tiene un peso del 60% de la nota final (el test de evaluación sería el 40% restante).\n",
    "\n",
    "Es importante tener presente que, dado que se va a utilizar el mismo conjunto de datos para evaluar distintos temas del módulo, se perseguirán objetivos distintos en distintas partes de esta práctica parte I. Por ejemplo, para el modelo de regresión lineal, se tomará como variable objetivo ***Salary***, mientras que para la regresión logística, la variable objetivo será ***Gender***. Se deberá tener presente esto especialmente a la hora de llevar a cabo toda la fase de entendimiento y preparación de los datos ya que habrá transformaciones y analisis que serán comunes para ambos modelos y otras que serán específicas de cada modelo. en este sentido, el alumno deberá organizarse como mejor considere para llevar a cabo la práctica siguiendo el guión establecido pero con cierta flexibilidad para incluir todo aquello que considere oportuno en el momento que considere oportuno.\n",
    "\n",
    "Por la misma razón, la parte de clustering no tiene variable objetivo como tal pero el analisis exploratorio y la preparación de los datos puede llevar a que haya particularidades para sus ejercicios además de las comunes.\n",
    "\n",
    "Comenzando con esta primera parte de la práctica, en el primer bloque de código, conviene cargar las librerías que se van a utilizar a lo largo del notebook."
   ]
  },
  {
   "cell_type": "code",
   "execution_count": null,
   "id": "c8fb6e17-68fa-49f0-90a2-a6a6c6627cfd",
   "metadata": {},
   "outputs": [],
   "source": [
    "# importar librerias"
   ]
  },
  {
   "cell_type": "markdown",
   "id": "a0a9eb8b-7fb3-4119-848b-f3600ee59a33",
   "metadata": {},
   "source": [
    "En el siguiente paso vamos a proceder a cargar el fichero Salary_MD.csv que servirá como conjunto de datos para llevar a cabo toda la evaluación de esta parte I. Se trata de un fichero en el que cada registro es un empleado y sobre él, cada campo aporta información laboral y de formación."
   ]
  },
  {
   "cell_type": "code",
   "execution_count": null,
   "id": "7d77c255-7b9d-48cf-af6e-a03c876ca761",
   "metadata": {},
   "outputs": [],
   "source": [
    "# Cargar el fichero de datos en un DataFrame"
   ]
  },
  {
   "cell_type": "markdown",
   "id": "604eeb2d-644a-463a-ad99-1c568623d953",
   "metadata": {},
   "source": [
    "En los siguientes bloques de código el alumno debe programar las sentencias de código que considere oportunas para hacerse una idea general de los datos y de las variables. Visualización de datos, gráficos, etc. Los bloques son orientativos, el alumno puede añadir cuantos considere y codificarlos según su criterio."
   ]
  },
  {
   "cell_type": "code",
   "execution_count": null,
   "id": "4807ac0c-2fbd-432f-a8d5-382f55244249",
   "metadata": {},
   "outputs": [],
   "source": [
    "# Mostrar los 10 primeros registros"
   ]
  },
  {
   "cell_type": "code",
   "execution_count": null,
   "id": "06ffe32d-3604-4290-94cf-4c9408913c7f",
   "metadata": {},
   "outputs": [],
   "source": [
    "# Describir el DataFrame"
   ]
  },
  {
   "cell_type": "code",
   "execution_count": null,
   "id": "1b32ef96-f9cc-4d29-91d1-d608dfceeae2",
   "metadata": {},
   "outputs": [],
   "source": [
    "# Mostrar las columnas y tipos de datos"
   ]
  },
  {
   "cell_type": "code",
   "execution_count": null,
   "id": "35801e7f-4ade-47df-97e7-3f57aadc2539",
   "metadata": {},
   "outputs": [],
   "source": [
    "# ..."
   ]
  },
  {
   "cell_type": "code",
   "execution_count": null,
   "id": "269a5562-b399-48c7-ac80-81f08a82c913",
   "metadata": {},
   "outputs": [],
   "source": [
    "# ..."
   ]
  },
  {
   "cell_type": "markdown",
   "id": "e058c940-fbc6-46a2-a51e-a0a065384c9c",
   "metadata": {},
   "source": [
    "### Pregunta 1 ###\n",
    "De este primer vistazo general, ¿qué conclusiones sacamos acerca de las variables ***Salary*** y ***Years of Experience***? ¿Qué características tiene la variable ***Job Title***?"
   ]
  },
  {
   "cell_type": "markdown",
   "id": "1b3d845e-529b-4f62-b28e-45cf90f2f1fb",
   "metadata": {},
   "source": [
    "***Respuesta:***"
   ]
  },
  {
   "cell_type": "markdown",
   "id": "3d996a57-6161-4f54-9da7-d6fdc4d3f060",
   "metadata": {},
   "source": []
  },
  {
   "cell_type": "markdown",
   "id": "a985b1bc-dc7b-435f-9d5b-2cfa55d4d4d8",
   "metadata": {},
   "source": [
    "Pasamos ahora a profundizar aún más en las variables a través de las relaciones entre ellas. El alumno debe analizar correlaciones y las relaciones entre categóricas o categoricas y númericas."
   ]
  },
  {
   "cell_type": "code",
   "execution_count": null,
   "id": "508e52db-41c2-45b3-9519-4ab367fb09bc",
   "metadata": {},
   "outputs": [],
   "source": [
    "# Calcular la matriz de correlación"
   ]
  },
  {
   "cell_type": "code",
   "execution_count": null,
   "id": "29981f28-3537-4e00-a4fe-b338fe15168a",
   "metadata": {},
   "outputs": [],
   "source": [
    "# Calcular la matriz de coeficientes V de Cramér"
   ]
  },
  {
   "cell_type": "code",
   "execution_count": null,
   "id": "d14f9555-ad06-449d-8a83-984a88e304e9",
   "metadata": {},
   "outputs": [],
   "source": [
    "# ..."
   ]
  },
  {
   "cell_type": "code",
   "execution_count": null,
   "id": "a6bef4c8-2f52-466d-9208-5a1537896e2c",
   "metadata": {},
   "outputs": [],
   "source": [
    "# ..."
   ]
  },
  {
   "cell_type": "markdown",
   "id": "a94d9c9e-af3d-46d6-b59c-dd8ea84e3bbd",
   "metadata": {},
   "source": [
    "### Pregunta 2 ###\n",
    "¿Cualés son las relaciones más destacadas entre variables? Describe estas relaciones e interpretalas brevemente."
   ]
  },
  {
   "cell_type": "markdown",
   "id": "9c846f59-40ad-4915-8836-066e1dff7e68",
   "metadata": {},
   "source": [
    "***Respuesta:***"
   ]
  },
  {
   "cell_type": "markdown",
   "id": "524b9cff-f7c6-4440-8c27-d323729587f2",
   "metadata": {},
   "source": []
  },
  {
   "cell_type": "markdown",
   "id": "fb2f81c2-5b62-4b14-a965-209aaf9a341b",
   "metadata": {},
   "source": [
    "Nos centramos ahora en la calidad del dato. Arrancamos con el analisis de valores nulos donde el alumno debe programar código para determinar las variables que tienen valores nulos, el número de registros de cada variable con valores nulos, etc."
   ]
  },
  {
   "cell_type": "code",
   "execution_count": null,
   "id": "b44d51ef-10d7-4d04-bdb1-48a7159caac0",
   "metadata": {},
   "outputs": [],
   "source": [
    "# Tabla de porcentaje de registros con Missing Values por cada variable"
   ]
  },
  {
   "cell_type": "code",
   "execution_count": null,
   "id": "7714902f-a92e-4e7f-9df2-791a8bcdd97a",
   "metadata": {},
   "outputs": [],
   "source": [
    "# Cuenta de valores nulos por registro"
   ]
  },
  {
   "cell_type": "code",
   "execution_count": null,
   "id": "825259fc-fe63-4438-adbb-8c5df1408ded",
   "metadata": {},
   "outputs": [],
   "source": [
    "# ..."
   ]
  },
  {
   "cell_type": "markdown",
   "id": "ca7b6b79-c002-4472-91a1-19b96bb30c02",
   "metadata": {},
   "source": [
    "### Pregunta 3 ###\n",
    "¿Éxiste algún tipo de relación entre los valores nulos de la variable ***Gender*** y ***Salary***? Los nulos de ***Gender***, para esta práctica, hay que llevar a cabo algún tipo de imputación para no perder esos registros. ¿Cómo se realizará está imputación y cuales son las razones que llevan a hacerlo así?"
   ]
  },
  {
   "cell_type": "markdown",
   "id": "2c610cb9-7813-42e3-8954-f6fb7f10dc78",
   "metadata": {},
   "source": [
    "***Respuesta:***"
   ]
  },
  {
   "cell_type": "markdown",
   "id": "fd0e82d8-ee13-4bf0-8140-ea028891b44b",
   "metadata": {},
   "source": []
  },
  {
   "cell_type": "markdown",
   "id": "99754770-d3c6-49f5-9622-8a71cb044d88",
   "metadata": {},
   "source": [
    "Antes de pasar a ejecutar las acciones que hayamos decidido realizar para corregir los problemas de valores nulos, analizamos los valores atípicos de las variables. Utilizaremos 2 métodos para identificarlos: Z-Score y rango intercuartil (IQR)"
   ]
  },
  {
   "cell_type": "code",
   "execution_count": null,
   "id": "a0f7c9fc-cf06-467d-92d3-e4bea5902b99",
   "metadata": {},
   "outputs": [],
   "source": [
    "# Identificación de outliers (Z-score)"
   ]
  },
  {
   "cell_type": "code",
   "execution_count": null,
   "id": "47fc2a56-0537-4f09-8474-94e914faaf2b",
   "metadata": {},
   "outputs": [],
   "source": [
    "# Identificación de outliers (IQR)"
   ]
  },
  {
   "cell_type": "code",
   "execution_count": null,
   "id": "2956ebc5-8c9d-4f0d-8f4b-6f628b5e99e3",
   "metadata": {},
   "outputs": [],
   "source": [
    "# ..."
   ]
  },
  {
   "cell_type": "markdown",
   "id": "977f4d41-7e18-4deb-9117-7c326645d822",
   "metadata": {},
   "source": [
    "### Pregunta 4 ###\n",
    "¿Qué variables tienen outliers? en ocasiones, dependiendo de los outliers de una variable, es más apropiado identificarlos mediante un método u otro. En tu opinión y en base al estudio de los outliers de cada variable numérica, ¿cuál es el más apropiado para cada una y por qué?"
   ]
  },
  {
   "cell_type": "markdown",
   "id": "9dcc7e81-d51f-42a3-aea1-03acca5c32b6",
   "metadata": {},
   "source": [
    "***Respuesta:***"
   ]
  },
  {
   "cell_type": "markdown",
   "id": "8ed2304c-c85b-49bd-8442-a2444826e327",
   "metadata": {},
   "source": []
  },
  {
   "cell_type": "markdown",
   "id": "727b8515-7988-4ab8-8947-3ff95e94fc7a",
   "metadata": {},
   "source": [
    "Ahora procedemos a trabajar los datos seleccionando registros, variables y solventando los problemas de outliers y valores nulos para dejar preparado el conjunto de datos para la fase de modelado posterior. En este sentido, las siguientes líneas de código, deben programarse para realizar estas transformaciones."
   ]
  },
  {
   "cell_type": "code",
   "execution_count": null,
   "id": "a99a4b0b-5351-44db-af51-f2a265b09b9c",
   "metadata": {},
   "outputs": [],
   "source": [
    "# Seleccion/Eliminación de registros y variables"
   ]
  },
  {
   "cell_type": "code",
   "execution_count": null,
   "id": "6857be39-379f-499c-b7c8-cdf54a27310e",
   "metadata": {},
   "outputs": [],
   "source": [
    "# Imputación o acciones para tratar valores nulos"
   ]
  },
  {
   "cell_type": "code",
   "execution_count": null,
   "id": "f4bb65df-1bfa-44d0-bf8e-c1d944fdbf21",
   "metadata": {},
   "outputs": [],
   "source": [
    "# Imputación o transformación de valores atípicos"
   ]
  },
  {
   "cell_type": "code",
   "execution_count": null,
   "id": "dc1554b5-246e-4663-a416-b616be0367ec",
   "metadata": {},
   "outputs": [],
   "source": [
    "# ..."
   ]
  },
  {
   "cell_type": "markdown",
   "id": "85a3db8f-6b72-4038-8bf4-8aa562b8e1d6",
   "metadata": {},
   "source": [
    "### Pregunta 5 ###\n",
    "¿cómo han sido tratados los valores átipicos de la variable ***Salary*** y por qué se ha tomado esta decisión?"
   ]
  },
  {
   "cell_type": "markdown",
   "id": "0f8515fc-95ae-4863-a385-1516acfa85ff",
   "metadata": {},
   "source": [
    "***Respuesta:***"
   ]
  },
  {
   "cell_type": "markdown",
   "id": "a6a4f86d-c401-40aa-92c4-0579d2b775c1",
   "metadata": {},
   "source": []
  },
  {
   "cell_type": "markdown",
   "id": "3a456372-01ce-4903-b0b7-0a0d7531c55f",
   "metadata": {},
   "source": [
    "A continuación en los siguientes bloques de código, se han de llevar a cabo ciertas transformaciones que conviene realizar sobre los datos para dejarlos depurados y preparados para la fase de modelado. En este sentido, transformaciones de variables númericas para buscar mayor relación con la variable objetivo, recategorización de variables categóricas, estandarización, homogeneización de formatos y unidades, etc."
   ]
  },
  {
   "cell_type": "code",
   "execution_count": null,
   "id": "ba065d6d-1320-405f-bff0-76953884ef1a",
   "metadata": {},
   "outputs": [],
   "source": [
    "# Recategorización..."
   ]
  },
  {
   "cell_type": "code",
   "execution_count": null,
   "id": "96c585aa-010c-4754-84b8-0d16642c8f12",
   "metadata": {},
   "outputs": [],
   "source": [
    "# Estandarización..."
   ]
  },
  {
   "cell_type": "code",
   "execution_count": null,
   "id": "185c94fd-b832-4369-8781-7f6130b569e3",
   "metadata": {},
   "outputs": [],
   "source": [
    "# Tipos de valores..."
   ]
  },
  {
   "cell_type": "code",
   "execution_count": null,
   "id": "0f8d7924-5300-40c9-8bf5-3119f7202d70",
   "metadata": {},
   "outputs": [],
   "source": [
    "# Codificación..."
   ]
  },
  {
   "cell_type": "markdown",
   "id": "fae5dba4-b94d-4a28-8b80-ba67af9ccf73",
   "metadata": {},
   "source": [
    "### Pregunta 6 ###\n",
    "En caso de que se haya llevado a cabo algún tratamiento sobre las variables categóricas, ¿qué acciones se han tomado y sobre qué variables? En el caso de la variable ***Education Level***, ¿Se ha llevado a cabo sobre ella alguna transformación o se ha dejado tal cual?¿Por qué?"
   ]
  },
  {
   "cell_type": "markdown",
   "id": "aeca6232-81e4-41d5-b3df-6c6737df8c55",
   "metadata": {},
   "source": [
    "***Respuesta:***"
   ]
  },
  {
   "cell_type": "markdown",
   "id": "d48d76a5-d135-4963-9008-ae78594e6e86",
   "metadata": {},
   "source": []
  },
  {
   "cell_type": "markdown",
   "id": "4857b01c-8f54-40f8-8a70-686d1a98b28b",
   "metadata": {},
   "source": [
    "Procedemos ahora con el primer modelo que vamos a definir con este conjunto de datos. Se trata de un modelo de regresión lineal que tratará de predecir los valores de la variable ***Salary*** en función de las demás variables."
   ]
  },
  {
   "cell_type": "markdown",
   "id": "f8666505-6abe-4630-afc5-488d52c3ee70",
   "metadata": {},
   "source": [
    "Hasta aquí se habrán realizado diversas transformaciones y preparaciones de los datos comunes para todos los ejercicios de esta práctica. En los siguientes bloques, añadir transformaciones específicas para este modelo de regresión lineal."
   ]
  },
  {
   "cell_type": "code",
   "execution_count": null,
   "id": "c410efd1-9960-4106-a758-a49bbcd2a726",
   "metadata": {},
   "outputs": [],
   "source": [
    "# Transformaciones varias para adaptar al modelo de regresión lineal"
   ]
  },
  {
   "cell_type": "code",
   "execution_count": null,
   "id": "627d3230-df2e-4061-b4cd-feba37945abe",
   "metadata": {},
   "outputs": [],
   "source": [
    "# ..."
   ]
  },
  {
   "cell_type": "markdown",
   "id": "e4b3e96a-c6ab-49b2-880a-1af00a492974",
   "metadata": {},
   "source": [
    "Ahora procedemos a realizar la separación del conjunto de datos en 2 conjuntos: uno con las variables predictoras y otro con la variable objetivo. También separamos en conjuntos de entrenamiento y test para poder llevar a cabo el entrenamiento del modelo y la validación en conjuntos distintos. Escoged el porcentaje de datos para entrenamiento que se considere adecuado. Por último, entrenar un modelo de regresión lineal mostrando un resumen de los parametros, coeficientes y demás información útil para valorar la bondad del modelo entrenado."
   ]
  },
  {
   "cell_type": "code",
   "execution_count": null,
   "id": "ce381a3b-2d76-4f62-9829-6b79bf335669",
   "metadata": {},
   "outputs": [],
   "source": [
    "# Definir la variable objetivo (y) y las predictoras (X)"
   ]
  },
  {
   "cell_type": "code",
   "execution_count": null,
   "id": "18d28cb9-012a-4067-88f8-4b604708d138",
   "metadata": {},
   "outputs": [],
   "source": [
    "# Dividir los datos en entrenamiento y prueba"
   ]
  },
  {
   "cell_type": "code",
   "execution_count": null,
   "id": "d54c23a9-5a47-4c9b-9ec8-0137ada7bb4b",
   "metadata": {
    "scrolled": true
   },
   "outputs": [],
   "source": [
    "# Crear y ajustar el modelo"
   ]
  },
  {
   "cell_type": "code",
   "execution_count": null,
   "id": "d2f19b62-d1a6-4a07-8f41-516706f7e847",
   "metadata": {
    "scrolled": true
   },
   "outputs": [],
   "source": [
    "# Mostrar el resumen detallado del modelo"
   ]
  },
  {
   "cell_type": "code",
   "execution_count": null,
   "id": "6fb93345-0f61-4a79-ba32-c29d6884d450",
   "metadata": {},
   "outputs": [],
   "source": [
    "# ..."
   ]
  },
  {
   "cell_type": "markdown",
   "id": "7a3f2329-596b-47e1-afd8-2f5c55e3d385",
   "metadata": {},
   "source": [
    "### Pregunta 7 ###\n",
    "A la vista de los resultados del modelo, ¿Presenta sesgo el modelo? ¿Se cumplen las condiciones/supuestos que deben cumplirse en una regresión lineal para que el modelo sea estadisticamente válido? Detalla la respuesta haciendo interpretacion de los resultados obtenidos."
   ]
  },
  {
   "cell_type": "markdown",
   "id": "f3a55a5d-6a2e-43ee-ba83-9e98087aa128",
   "metadata": {},
   "source": [
    "***Respuesta:***"
   ]
  },
  {
   "cell_type": "markdown",
   "id": "ff95328d-212d-4e4c-85c8-b17a07476e89",
   "metadata": {},
   "source": []
  },
  {
   "cell_type": "markdown",
   "id": "338fb65d-eb90-457a-9acb-ee920e9fc4e2",
   "metadata": {},
   "source": [
    "A continuación, se ha de aplicar validación cruzada sobre los datos para el modelo de regresión lineal. Con esto veremos la generalización del modelo a datos no conocidos. Generar los bloques de código necesarios para llevar a cabo esta validación. La validación ha de ser en base a 2 métricas de vuestra elección sobre conjuntos de test y han de mostrarse los resultados en diagramas de tipo de boxplot o que permitan entender cómo generaliza el modelo."
   ]
  },
  {
   "cell_type": "code",
   "execution_count": null,
   "id": "4415446e-c369-4320-8a14-098286a5fcfe",
   "metadata": {},
   "outputs": [],
   "source": [
    "# Aplicación de validación cruzada"
   ]
  },
  {
   "cell_type": "code",
   "execution_count": null,
   "id": "1f51a587-016c-47b7-8a1e-784b11b7f380",
   "metadata": {},
   "outputs": [],
   "source": [
    "# Apoyo gráfico para interpretar la validación"
   ]
  },
  {
   "cell_type": "markdown",
   "id": "0fbe6f05-3c88-47ac-959b-87eddcf230ca",
   "metadata": {},
   "source": [
    "### Pregunta 8 ###\n",
    "A la vista de los resultados de validación, ¿Existen problemas de varianza en los modelos entrenados?¿Por qué? "
   ]
  },
  {
   "cell_type": "markdown",
   "id": "1680a6cf-cb16-407e-9ffd-d54748f8bcdc",
   "metadata": {},
   "source": [
    "***Respuesta:***"
   ]
  },
  {
   "cell_type": "markdown",
   "id": "1463c150-7634-40a7-8f69-d78b9c2cd13c",
   "metadata": {},
   "source": []
  },
  {
   "cell_type": "markdown",
   "id": "fd463576-55e2-4997-9ba7-583f3f616d4f",
   "metadata": {},
   "source": [
    "Como siguiente paso, vamos a aplicar selección de variables a nuestro conjunto de datos para ver si somos capaces de encontrar un modelo que, a través de un conjunto menor de variables, sea capaz de predecir muy parecido o mejor incluso que el modelo de regresión lineal que acabamos de obtener en primera instancia.\n",
    "\n",
    "Para ello vamos a proceder de dos formas. La primera consiste en llevar a cabo un metodo automatico de selección de variables hacía adelante (Forward). En los siguientes bloques de código, se ha de programar las instrucciones necesarias para llevar a cabo esta selección de variables. Se valorará mostrar el gráfico secuencial que muestra el perfomance de cada iteración. "
   ]
  },
  {
   "cell_type": "code",
   "execution_count": null,
   "id": "eb848291-cd65-4647-a26c-452cebe0bf73",
   "metadata": {},
   "outputs": [],
   "source": [
    "# Selección Forward de variables"
   ]
  },
  {
   "cell_type": "code",
   "execution_count": null,
   "id": "9591c0c8-7d5c-407a-9a15-4fadaf470f7a",
   "metadata": {},
   "outputs": [],
   "source": [
    "# Gráfico de perfomance de la selección en cada iteración."
   ]
  },
  {
   "cell_type": "markdown",
   "id": "4c1f5128-b2c4-4764-813f-d53ce49bc78a",
   "metadata": {},
   "source": [
    "### Pregunta 9 ###\n",
    "¿Cuál es el número de variables seleccionadas por el método aplicado? ¿cuál es el valor de la métrica escogida para la selección de las variables, en la iteración correspondiente al número de variables seleccionadas?"
   ]
  },
  {
   "cell_type": "markdown",
   "id": "af261241-7e24-4e65-b851-618fce3bccd3",
   "metadata": {},
   "source": [
    "***Respuesta:***"
   ]
  },
  {
   "cell_type": "markdown",
   "id": "b85c091e-0146-4ed5-b8ce-064e8b234577",
   "metadata": {},
   "source": []
  },
  {
   "cell_type": "markdown",
   "id": "d77396fc-a661-4beb-9c24-2cca532c824f",
   "metadata": {},
   "source": [
    "Una vez realizada la selección de variables, se ha de entrenar un modelo de regresión lineal con dichas variables y mostrar el resumen del modelo entrenado. Una vez entrenado, aplicar validación cruzada para evaluar el modelo en todo el conjunto de datos para validar la generalización del modelo. De nuevo, la validación ha de ser en base a las 2 métricas escogidas en puntos anteriores, sobre conjuntos de test y han de mostrarse los resultados en diagramas de tipo de boxplot o que permitan entender cómo generaliza el modelo."
   ]
  },
  {
   "cell_type": "code",
   "execution_count": null,
   "id": "8d6f14bb-2259-44b3-b9b2-cde7e46a486c",
   "metadata": {
    "scrolled": true
   },
   "outputs": [],
   "source": [
    "# Ajustar modelo regresión lineal para variables seleccionadas"
   ]
  },
  {
   "cell_type": "code",
   "execution_count": null,
   "id": "3269d304-86fe-4395-b996-4cebdfa9e9de",
   "metadata": {},
   "outputs": [],
   "source": [
    "# Mostrar principales atributos, coeficientes, etc. del modelo entrenado"
   ]
  },
  {
   "cell_type": "code",
   "execution_count": null,
   "id": "f53a4ff1-2180-4e54-8fc1-bb3621c6dcf7",
   "metadata": {},
   "outputs": [],
   "source": [
    "# Aplicar validación cruzada"
   ]
  },
  {
   "cell_type": "code",
   "execution_count": null,
   "id": "2d6b0162-d8e6-43d5-8569-98922604014e",
   "metadata": {},
   "outputs": [],
   "source": [
    "# Apoyo gráfico para interpretar la validación"
   ]
  },
  {
   "cell_type": "markdown",
   "id": "d3809de3-e2c6-491e-80c5-d2db5bb4ca9b",
   "metadata": {},
   "source": [
    "### Pregunta 10 ###\n",
    "En base a los resultados obtenidos, comparar con los resultados obtenidos para el modelo de regresión lineal y explicar las conclusiones sobre cuál de los 2 modelos parece aportar más beneficios para el objetivo del proyecto."
   ]
  },
  {
   "cell_type": "markdown",
   "id": "2dff2d74-6b57-4956-8f6a-29e6f2557fcd",
   "metadata": {},
   "source": [
    "***Respuesta:***"
   ]
  },
  {
   "cell_type": "markdown",
   "id": "637d64d9-9a2a-4e79-be6d-e8e0e935145b",
   "metadata": {},
   "source": []
  },
  {
   "cell_type": "markdown",
   "id": "ddff5c51-ead8-4889-bd09-40a7a95eafc6",
   "metadata": {},
   "source": [
    "Ahora se ha de entrenar un nuevo modelo de regresión lineal pero esta vez, en lugar de aplicar una selección de variables como se acaba de realizar, el alumno debe llevar a cabo un analisis de compoenentes principales que reduzca la dimensionalidad del conjunto original de datos. Y a partir de dichas componentes, entrenar y evaluar el modelo de regresión lineal.\n",
    "\n",
    "En primer lugar, se han escribir los bloques de código que permiten realizar el analisis de componentes principales."
   ]
  },
  {
   "cell_type": "code",
   "execution_count": null,
   "id": "eeef640c-3178-45c4-b147-3d6fb752e09d",
   "metadata": {},
   "outputs": [],
   "source": [
    "# Crear el analisis de PCA a partir del conjunto de variables predictoras"
   ]
  },
  {
   "cell_type": "code",
   "execution_count": null,
   "id": "63f38b4c-062f-4096-a447-b0d05c4f11d7",
   "metadata": {},
   "outputs": [],
   "source": [
    "# Graficar la varianza explicada acumulada (scree-plot)"
   ]
  },
  {
   "cell_type": "markdown",
   "id": "536ed9b1-f2de-4a61-8dd7-fb57d43328aa",
   "metadata": {},
   "source": [
    "### Pregunta 11 ###\n",
    "Para un porcentaje de varianza explicada del 95%, ¿cuál es el número de componentes principales que consiguen explicar dicho porcentaje de varianza?"
   ]
  },
  {
   "cell_type": "markdown",
   "id": "b93aae86-45ea-4336-823d-f777d46aac31",
   "metadata": {},
   "source": [
    "***Respuesta:***"
   ]
  },
  {
   "cell_type": "markdown",
   "id": "a19913f4-3fab-4b38-bae1-2b70fbe7d6de",
   "metadata": {},
   "source": []
  },
  {
   "cell_type": "markdown",
   "id": "e187a5a4-e53c-4680-83a0-41a92721b722",
   "metadata": {},
   "source": [
    "A continuación, con las nuevas componentes principales como variables predictoras y los datos proyectados sobre ellas, entrenar un modelo de regresión lineal y mostrar los resultados del entrenamiento. Una vez entrenado, aplicar validación cruzada para evaluar el modelo en todo el conjunto de datos validando así la generalización del modelo. De nuevo, la validación ha de ser en base a las 2 métricas escogidas en puntos anteriores, sobre conjuntos de test y han de mostrarse los resultados en diagramas de tipo de boxplot o que permitan entender cómo generaliza el modelo."
   ]
  },
  {
   "cell_type": "code",
   "execution_count": null,
   "id": "399e8287-cd8b-44c9-9c41-1815857566e6",
   "metadata": {},
   "outputs": [],
   "source": [
    "# Ajustar modelo regresión lineal para variables seleccionadas proyectadas"
   ]
  },
  {
   "cell_type": "code",
   "execution_count": null,
   "id": "4ac15ae3-302d-4aac-902e-ff075b156f1f",
   "metadata": {},
   "outputs": [],
   "source": [
    "# Mostrar principales atributos, coeficientes, etc. del modelo entrenado"
   ]
  },
  {
   "cell_type": "code",
   "execution_count": null,
   "id": "d8e2eace-b7c1-406e-ad47-fc4e58e4f55f",
   "metadata": {},
   "outputs": [],
   "source": [
    "# Aplicar validación cruzada"
   ]
  },
  {
   "cell_type": "code",
   "execution_count": null,
   "id": "a8d97912-8697-4c52-b1f5-7662d0857bfb",
   "metadata": {
    "scrolled": true
   },
   "outputs": [],
   "source": [
    "# Apoyo gráfico para interpretar la validación"
   ]
  },
  {
   "cell_type": "markdown",
   "id": "f7abaa1f-09d6-41c3-86b7-3cb11b44f706",
   "metadata": {},
   "source": [
    "### Pregunta 12 ###\n",
    "En vista de los resultados, comparar con los anteriores 2 modelos entrenados (el original de regresión lineal y aquel al que aplicamos selección de variables con método forward). ¿Qué modelo de entre los 3 tiene el atributo *Condition Number* más bajo y por qué? En general y a modo de conclusión, ¿Qué modelo de los 3 parece más apropiado para el caso de uso y por qué?"
   ]
  },
  {
   "cell_type": "markdown",
   "id": "e9821f43-3a77-4479-b5ef-7cd0d6fb5324",
   "metadata": {},
   "source": [
    "***Respuesta:***"
   ]
  },
  {
   "cell_type": "markdown",
   "id": "7896f1eb-8d28-4e36-b894-c52ad94f5827",
   "metadata": {},
   "source": []
  },
  {
   "cell_type": "markdown",
   "id": "237096be-0a27-439d-8ca5-c7b05c5ab537",
   "metadata": {},
   "source": [
    "Pasamos ahora a cambiar el objetivo del proyecto pero haciendo uso del mismo conjunto de datos. Todas las transformaciones y preparaciones comunes que hayamos establecido, seguirán siendo válidas y tan solo quedarán aquellas específicas para este nuevo caso de uso.\n",
    "\n",
    "La nueva variable objetivo será ***Gender***. El modelo debe ser capaz de determinar para cada registro si se trata de hombre o mujer según esta variable de genero. Las variables predictoras serán todas las demás (incluyendo en esta ocasión la variable ***Salary*** como una predictora más. El modelo que vamos a tratar de modelar para clasificar nuestros datos será de regresión logística.\n",
    "\n",
    "En primer lugar, se debe transformar la variable categórica ***Gender*** codificándola con 0 cuando el registro sea *Female* o 1 cuando es *Male*. Una vez realizada esta transformación, ya tenemos preparada nuestra variable objetivo. En este caso, mantenemos y asumimos como valores correctos la imputación de valores nulos que se llevó a cabo en anteriores ejercicios correspondientes a la fase de preparación de los datos."
   ]
  },
  {
   "cell_type": "code",
   "execution_count": null,
   "id": "ddf06813-b970-4002-8499-ff4d7b1b367a",
   "metadata": {},
   "outputs": [],
   "source": [
    "# Binarizar la variable objetivo"
   ]
  },
  {
   "cell_type": "markdown",
   "id": "7f3f1a5a-5c78-42a3-baeb-9a62b90edf25",
   "metadata": {},
   "source": [
    "A continuación, podríamos tratar de modelar la regresión logística con el dataset actual, tomando como variable objetivo ***Gender*** que acabamos de transformar. Lo más normal es que al hacerlo, el modelo de un error al entrenarlo por no llegar a converger o directamente porque la matriz a invertir para calcular los coeficientes, sea singular y no pueda invertirse. Esto se debe a colinealidad entre las variables predictoras. Queda a criterio del alumno, hacer él mismo la prueba de tratar de entrenar la regresión y verificar si efectivamente da problemas y no se consigue un modelo válido.\n",
    "\n",
    "Por evitar esta situación, vamos a realizar un paso previo que consistirá en un analisis factorial, mediante el cual daremos con unos factores que por un lado nos aportarán información potencial subyacente sobre las variables latentes que pueda contener nuestro conjunto de variables predictoras, y por otro lado nos ayudará a reducir la dimensionalidad del conjunto para evitar la multicolinealidad. Esto nos permitirá llevar a cabo el entrenamiento del modelo de regresión lineal.\n",
    "\n",
    "Los siguientes bloques de código deben ajustar un analisis de componentes principales a partir de nuestro conjunto de variables predictoras recién definido. Después se debe mostrar en una tabla cada uno de los autovectores, su correspondiente autovalor, el porcentaje de varianza explicada y el porcentaje de varianza acumulada estando las componentes ordenadas de mayor a menor porcentaje de varianza explicada. Por último, se debe mostrar en un gráfico de tipo scree-plot (gráfico de codo), la varianza explicada en función del número de componentes principales."
   ]
  },
  {
   "cell_type": "code",
   "execution_count": null,
   "id": "01039794-c03f-43e5-bf2b-97fd52990d5e",
   "metadata": {},
   "outputs": [],
   "source": [
    "# Usar PCA para obtener autovectores y autovalores"
   ]
  },
  {
   "cell_type": "code",
   "execution_count": null,
   "id": "4ee5421d-72ef-49b3-bcde-f981c4bc9a3f",
   "metadata": {},
   "outputs": [],
   "source": [
    "# Mostrar la tabla con autovectores, autovalores, porcentaje de varianza explicada y acumulada"
   ]
  },
  {
   "cell_type": "code",
   "execution_count": null,
   "id": "82e6ea0e-bd5a-4dfb-8adc-57c02842659d",
   "metadata": {},
   "outputs": [],
   "source": [
    "# Scree-plot de varianza explicada"
   ]
  },
  {
   "cell_type": "markdown",
   "id": "0b0c6923-1c57-4106-91ec-945fd6efa5b4",
   "metadata": {},
   "source": [
    "### Pregunta 13 ###\n",
    "De acuerdo a los resultados de la tabla, ¿Qué número de componentes consiguen explicar el 95% de la varianza conjunta de nuestro dataset?\n",
    "Por otor lado, viendo también la gráfica obtenida, ¿Cuántos factores debemos escoger según el criterio de Kaiser?"
   ]
  },
  {
   "cell_type": "markdown",
   "id": "8c256307-8114-49e6-b155-0163ed975b47",
   "metadata": {},
   "source": [
    "***Respuesta:***"
   ]
  },
  {
   "cell_type": "markdown",
   "id": "e1f4bf9c-37b5-47ac-893b-7ca5a882f2cf",
   "metadata": {},
   "source": []
  },
  {
   "cell_type": "markdown",
   "id": "d086f0cc-5b72-4635-8847-39b5b0ed5143",
   "metadata": {},
   "source": [
    "Muestra en una tabla las cargas factoriales para el listado de variables. Cada columna debe hacer referencia a cada factor seleccionado mediante el criterio de Kaiser."
   ]
  },
  {
   "cell_type": "code",
   "execution_count": null,
   "id": "214c8891-280f-42ff-971d-1e4a909eb5f7",
   "metadata": {},
   "outputs": [],
   "source": [
    "# Ajuste de Analisis Factorial para numero de factores según Kaiser"
   ]
  },
  {
   "cell_type": "code",
   "execution_count": null,
   "id": "c2ab474a-7f54-499f-8e2d-10b57e53c7eb",
   "metadata": {},
   "outputs": [],
   "source": [
    "# Matriz de cargas factoriales"
   ]
  },
  {
   "cell_type": "markdown",
   "id": "75127fe2-882f-4791-990f-bd138bdfe92f",
   "metadata": {},
   "source": [
    "### Pregunta 14 ###\n",
    "En base a los factores seleccionados mediante el método de Kaiser, haz una interpretación del significado de los factores."
   ]
  },
  {
   "cell_type": "markdown",
   "id": "3c3af437-3b0b-4041-8a22-320e2b7c6267",
   "metadata": {},
   "source": [
    "***Respuesta:***"
   ]
  },
  {
   "cell_type": "markdown",
   "id": "08b45860-fc3e-4a02-beb5-1f769b4ebdfc",
   "metadata": {},
   "source": []
  },
  {
   "cell_type": "markdown",
   "id": "58698fb4-2a84-49a7-b692-0105d5301e74",
   "metadata": {},
   "source": [
    "Para continuar con el analisis, vamos a seleccionar los 2 primeros factores. En el siguiente bloque de código se ha de presentar una tabla con las cargas factoriales de cada variable para los 2 factores seleccionados. Aplicar una rotación si se considera oportuno para ayudar a la interpretación de los factores. Después, se ha de mostrar en otra tabla las comunalidades y unicidades (ambas en expresadas como porcentaje). Por último, se ha de mostrar un diagrama biplot que represente, en función de los 2 factores escogidos, las variables que mayor representación según las cargas factoriales. Es decir, aquellas variables que tengan al menos una carga factorial mayor que 0.3. Esto reducirá el número de vectores a representar y hará que la visualización sea más legible."
   ]
  },
  {
   "cell_type": "code",
   "execution_count": null,
   "id": "0616f278-1d0f-486e-aba9-1b4f93e37478",
   "metadata": {},
   "outputs": [],
   "source": [
    "# Tabla de cargas factoriales para los 2 factores (incluyendo rotación si se elige)"
   ]
  },
  {
   "cell_type": "code",
   "execution_count": null,
   "id": "3567e7e0-db10-4bd2-bd9d-7e54afe4f2dc",
   "metadata": {},
   "outputs": [],
   "source": [
    "# Tabla de comunalidades y unicidades"
   ]
  },
  {
   "cell_type": "code",
   "execution_count": null,
   "id": "af44a012-46eb-4b8d-9374-81998a83bf61",
   "metadata": {},
   "outputs": [],
   "source": [
    "# Filtrado de variables para representación biplot"
   ]
  },
  {
   "cell_type": "code",
   "execution_count": null,
   "id": "92dc0c16-3a21-41ac-b330-2f91ac8858c4",
   "metadata": {},
   "outputs": [],
   "source": [
    "# Representación gráfica biplot de vectores de variables"
   ]
  },
  {
   "cell_type": "markdown",
   "id": "5484839c-c7b5-4dc9-937c-440b411b10c4",
   "metadata": {},
   "source": [
    "### Pregunta 15 ###\n",
    "Según los resultados mostrados, ¿Qué interpretación podemos hacer de los porcentajes de comunalidades y unicidades? En caso de obtener unicidades por debajo de 0, ¿A qué se debe?. Analizando el diagrama biplot, ¿Qué podemos concluir acerca de las variables representadas?"
   ]
  },
  {
   "cell_type": "markdown",
   "id": "c9b94a7a-77df-449a-96d8-3e18d032a603",
   "metadata": {},
   "source": [
    "***Respuesta:***"
   ]
  },
  {
   "cell_type": "markdown",
   "id": "e7e1c927-1151-46b2-9b96-f148dc79c1bd",
   "metadata": {},
   "source": []
  },
  {
   "cell_type": "markdown",
   "id": "8f9d93b0-503b-4cda-a00b-44ae0e46bac8",
   "metadata": {},
   "source": [
    "Seguimos con el diseño de nuestro modelo para intentar distinguir entre *Male* y *Female* para cada uno de los registros del conjunto de datos. Para ello vamos a tratar de modelar la regresión logística.\n",
    "\n",
    "Vamos a tratar de reducir la dimensionalidad de nuestro conjunto de variables predictoras aplicando un método de regularización. De esta forma trataremos de diseñar un modelo de regresión logística con regularización que evite en la medida de lo posible la multicolinealidad y manteniendo la máxima información posible acerca de nuestra variable objetivo. \n",
    "\n",
    "En los siguientes bloques de código, se ha de terminar de transformar el conjunto de datos para que pueda ser utilizado en un modelo de regresión logística. Ya se realizó la binarización de la variable objetivo ***Gender*** pero ahora queda normalizar, estandarizar y demás operaciones que considere el alumno oportunas para este modelo."
   ]
  },
  {
   "cell_type": "code",
   "execution_count": null,
   "id": "6bae396a-21e0-408e-b566-af5710faea10",
   "metadata": {},
   "outputs": [],
   "source": [
    "# Normalización y estandarización"
   ]
  },
  {
   "cell_type": "code",
   "execution_count": null,
   "id": "776d4d8a-20ce-4a75-9420-0aa7bce37d37",
   "metadata": {},
   "outputs": [],
   "source": [
    "# Codificación de categóricas"
   ]
  },
  {
   "cell_type": "code",
   "execution_count": null,
   "id": "87ff60e7-cdf6-4385-842f-a41338bc2f23",
   "metadata": {},
   "outputs": [],
   "source": [
    "# etc"
   ]
  },
  {
   "cell_type": "markdown",
   "id": "72b4c775-c0ce-4ec4-83f0-326194836f1f",
   "metadata": {},
   "source": [
    "Una vez preparados los datos, pasamos a modelar la regresión logísitica aplicando una regularización LASSO. Queda a discreción del alumno la configuración del algoritmo de optimización de la función de coste y la fuerza de la regularización. Se deberán mostrar como resultado del entrenamiento los coeficientes de la regresión con la desviación estandar de los errores en su estimación, el logaritmo de la verosimilitud, el de logaritmo de la verosimilitud del modelo nulo, el pseudo-R2 y las métricas AIC y BIC."
   ]
  },
  {
   "cell_type": "code",
   "execution_count": null,
   "id": "a2e6ef83-7552-401e-8af9-1751f249491a",
   "metadata": {},
   "outputs": [],
   "source": [
    "# Modelado con regularización LASSO"
   ]
  },
  {
   "cell_type": "code",
   "execution_count": null,
   "id": "f2081251-2cb8-4be5-be6f-8e99bd415ce7",
   "metadata": {},
   "outputs": [],
   "source": [
    "# Resultados del entrenamiento"
   ]
  },
  {
   "cell_type": "markdown",
   "id": "f316bc47-d0ae-45ef-8bee-3c26536766a5",
   "metadata": {},
   "source": [
    "### Pregunta 16 ###\n",
    "En vista de las métricas y resultados obtenidos, ¿qué tal ha predicho los valores del conjunto de entrenamiento? A partir de los coeficientes estimados, ¿Qué interpretación hacemos de los odds de la categoría *Mixed* de la variable ***Race*** y las categorías *Receptionist* y *Front End Developer* de la variable ***Job Title***? ¿Qué interpretamos del valor obtenido de la métrica Pseudo-R2?"
   ]
  },
  {
   "cell_type": "markdown",
   "id": "db347121-0370-4990-9ee7-fe5967b1e906",
   "metadata": {},
   "source": [
    "***Respuesta:***"
   ]
  },
  {
   "cell_type": "markdown",
   "id": "f6bcb3ed-16c2-4870-9bff-7ce1e512a7e1",
   "metadata": {},
   "source": []
  },
  {
   "cell_type": "markdown",
   "id": "d449caf3-22f7-44af-889b-c105f44f6fdb",
   "metadata": {},
   "source": [
    "Para el conjunto de validación, utilizar el modelo entrenado para validarlo a través de métricas de validación como la precisión, exactitud, sensibilidad, etc., obtenidas a partir de la matriz de confusión. Mostrar la gráfica de la curva ROC y calcular el area bajo la curva."
   ]
  },
  {
   "cell_type": "code",
   "execution_count": null,
   "id": "4fe539ef-792a-4b10-9d28-fe9723c0bea8",
   "metadata": {},
   "outputs": [],
   "source": [
    "# Clasificar los registros del conjunto de validación aplicando el modelo entrenado"
   ]
  },
  {
   "cell_type": "code",
   "execution_count": null,
   "id": "82412d83-f0ac-48ec-92ba-c36dc0e35a3c",
   "metadata": {},
   "outputs": [],
   "source": [
    "# Calcular la matriz de confusión y sus métricas"
   ]
  },
  {
   "cell_type": "code",
   "execution_count": null,
   "id": "68547c61-cd2e-4272-8672-5c40d778c96a",
   "metadata": {},
   "outputs": [],
   "source": [
    "# Mostrar la curva ROC y calcular el area bajo la curva."
   ]
  },
  {
   "cell_type": "code",
   "execution_count": null,
   "id": "00005648-dfb8-49da-9363-8dc3facc9266",
   "metadata": {},
   "outputs": [],
   "source": [
    "# ..."
   ]
  },
  {
   "cell_type": "markdown",
   "id": "51ab434b-dc9c-4843-85e1-551137dbd378",
   "metadata": {},
   "source": [
    "### Pregunta 17 ###\n",
    "Realizar una interpretación de los resultados obtenidos en las métricas: accuracy y recall (para ambas categorías 0 y 1). ¿Cuál es el valor del area bajo la curva obtenido? ¿Qué conclusión sobre el modelo obtenemos a partir de este valor? ¿Y cual sería la conclusión general del modelo en base a todos los resultados obtenidos?"
   ]
  },
  {
   "cell_type": "markdown",
   "id": "d117646a-bdc7-4555-9236-2251f33eb847",
   "metadata": {},
   "source": [
    "***Respuesta:***"
   ]
  },
  {
   "cell_type": "markdown",
   "id": "92189a2d-8c07-42ed-914f-c294d18eec5e",
   "metadata": {},
   "source": []
  },
  {
   "cell_type": "markdown",
   "id": "48bd19ae-c49c-414c-98ba-149ee7d8f84e",
   "metadata": {},
   "source": [
    "Cambiamos de tercio y pasamos ahora a trabajar con todo el conjunto de datos completo (incluyendo la variable ***Gender***) ya que vamos a realizar un clustering sobre todo el conjunto para ver qué grupos o segmentos encontramos más representativos en los datos. Empezaremos cargando un fichero nuevo que contiene los mismos datos pero sin la necesidad de tratar o trabajar nulos y outliers. El fichero se llama *Salary.csv*.\n",
    "\n",
    "El clustering que vamos a realizar sobre estos datos es un clustering jerarquico aglomerativo. Para ello prepararemos los datos categorizando algunas variables según se considere oportuno, agruparemos categorías de variables categóricas si procede, normalizaremos y/o estandarizaremos, codificaremos variables categóricas, etc. Muchos de estos pasos son comunes con los ejercicios anteriores por lo que será sencillo repetir algunos de estos pasos. Otros podrán añadirse en función de lo que el alumno considere teniendo en cuenta el ejercicio de clusterización que vamos a llevar a cabo.\n",
    "\n",
    "Las siguientes lineas de código deben llevar a cabo estas transformaciones.\n",
    "\n",
    "Por sencillez a la hora de interpretar resultados, se recomienda trabajar sobre una copia del conjunto de datos original para poder extraer métricas a partir de los datos sin transformar."
   ]
  },
  {
   "cell_type": "code",
   "execution_count": null,
   "id": "f860bd94-4c9d-4770-af4a-c64fb72028d9",
   "metadata": {},
   "outputs": [],
   "source": [
    "# Categorización de variables numericas"
   ]
  },
  {
   "cell_type": "code",
   "execution_count": null,
   "id": "96837a29-3d4d-4c04-a490-01c5e403a793",
   "metadata": {},
   "outputs": [],
   "source": [
    "# Codificación de categóricas"
   ]
  },
  {
   "cell_type": "code",
   "execution_count": null,
   "id": "665538e1-8db7-4068-83fa-ee2fb3cdfd8e",
   "metadata": {},
   "outputs": [],
   "source": [
    "# Normalización / Estandarización"
   ]
  },
  {
   "cell_type": "code",
   "execution_count": null,
   "id": "8e8415df-5783-408a-bb7a-8e348d84c168",
   "metadata": {},
   "outputs": [],
   "source": [
    "# etc"
   ]
  },
  {
   "cell_type": "code",
   "execution_count": null,
   "id": "64a75396-dab5-4b8d-900a-3bb3572606b5",
   "metadata": {},
   "outputs": [],
   "source": [
    "# ..."
   ]
  },
  {
   "cell_type": "markdown",
   "id": "743a379e-7274-409f-8719-ba1ae7f50746",
   "metadata": {},
   "source": [
    "A continuación procedemos a definir la función de enlace para el algoritmo jerarquico aglomerativo. Se requiere porbar al menos 2 funciones de enlace y hacer todo el proceso de clusterización completo para dichas funciones. Crear las matrices de distancias basadas en dichas funciones y mostrar los dendogramas de la clusterización, a ser posible indicando con colores selección de clusters."
   ]
  },
  {
   "cell_type": "code",
   "execution_count": null,
   "id": "20ced0a9-13e1-41b2-aea7-4379336cd8c9",
   "metadata": {},
   "outputs": [],
   "source": [
    "# Crear las matrices de distancias para lsa funciones de enlace escogidas"
   ]
  },
  {
   "cell_type": "code",
   "execution_count": null,
   "id": "7dd90ae6-8640-47c2-a670-f57d10972369",
   "metadata": {},
   "outputs": [],
   "source": [
    "# Mostrar los dendogramas"
   ]
  },
  {
   "cell_type": "markdown",
   "id": "5205f20c-97ea-474f-9312-c801fd04c909",
   "metadata": {},
   "source": [
    "### Pregunta 18 ###\n",
    "A la vista de los resultados, para cada función de enlace escogida, ¿En cuántos clusters se ha decidido agrupar los datos?"
   ]
  },
  {
   "cell_type": "markdown",
   "id": "a7a0bee6-9d12-4045-ab57-bd9bf9d554e4",
   "metadata": {},
   "source": [
    "***Respuesta:***"
   ]
  },
  {
   "cell_type": "markdown",
   "id": "4713fda9-a593-401a-9d91-148fa57623ea",
   "metadata": {},
   "source": []
  },
  {
   "cell_type": "markdown",
   "id": "a03ba219-17a4-45c3-9e47-d66e501c2399",
   "metadata": {},
   "source": [
    "A continuación crear varias columnas nuevas sobre el dataframe original (una por cada función de enlace con que se haya decidido trabajar) y almacenar en ellas para cada registro el número de cluster que le corresponde según la clusterización realizada. Después realizar una serie de agrupaciones y métricas que permitan entender o interpretar la naturaleza de cada cluster."
   ]
  },
  {
   "cell_type": "code",
   "execution_count": null,
   "id": "e2a20678-18a2-433e-b500-230cf32078c4",
   "metadata": {},
   "outputs": [],
   "source": [
    "# Agregar columnas al dataframe original"
   ]
  },
  {
   "cell_type": "code",
   "execution_count": null,
   "id": "6faff95f-f003-4a72-90cd-801451975f24",
   "metadata": {},
   "outputs": [],
   "source": [
    "# Obtener métricas para interpretar los clustering obtenidos"
   ]
  },
  {
   "cell_type": "markdown",
   "id": "4f593c06-670e-4b90-93cc-d11dc1fa9007",
   "metadata": {},
   "source": [
    "### Pregunta 19 ###\n",
    "Hacer una interpretación de los resultados para cada función de enlace indicando el sentido que pueda tener cada uno de los clusters."
   ]
  },
  {
   "cell_type": "markdown",
   "id": "5d282b66-d7b9-4f41-8bbf-0d8c47f39482",
   "metadata": {},
   "source": [
    "***Respuesta:***"
   ]
  },
  {
   "cell_type": "markdown",
   "id": "544676b6-0b3c-4c34-9765-fe6336aa65b6",
   "metadata": {},
   "source": []
  }
 ],
 "metadata": {
  "kernelspec": {
   "display_name": "Python 3 (ipykernel)",
   "language": "python",
   "name": "python3"
  },
  "language_info": {
   "codemirror_mode": {
    "name": "ipython",
    "version": 3
   },
   "file_extension": ".py",
   "mimetype": "text/x-python",
   "name": "python",
   "nbconvert_exporter": "python",
   "pygments_lexer": "ipython3",
   "version": "3.13.1"
  }
 },
 "nbformat": 4,
 "nbformat_minor": 5
}
